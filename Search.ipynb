{
 "cells": [
  {
   "cell_type": "code",
   "execution_count": 1,
   "metadata": {},
   "outputs": [],
   "source": [
    "from elasticsearch import Elasticsearch, helpers\n",
    "from collections import Counter\n",
    "from pprint import pprint\n",
    "import json\n",
    "import os"
   ]
  },
  {
   "cell_type": "markdown",
   "metadata": {},
   "source": [
    "Elasticsearch configuration varables"
   ]
  },
  {
   "cell_type": "code",
   "execution_count": 2,
   "metadata": {},
   "outputs": [],
   "source": [
    "port_num = 9200\n",
    "host = 'localhost'"
   ]
  },
  {
   "cell_type": "code",
   "execution_count": 3,
   "metadata": {},
   "outputs": [],
   "source": [
    "conn_conf = {\n",
    "    'host': host,\n",
    "    'port': port_num,\n",
    "    'timeout': 3600\n",
    "}"
   ]
  },
  {
   "cell_type": "markdown",
   "metadata": {},
   "source": [
    "Establish a connection"
   ]
  },
  {
   "cell_type": "code",
   "execution_count": 4,
   "metadata": {},
   "outputs": [],
   "source": [
    "es = Elasticsearch([conn_conf,], timeout=600)"
   ]
  },
  {
   "cell_type": "markdown",
   "metadata": {},
   "source": [
    "Format query parameters"
   ]
  },
  {
   "cell_type": "code",
   "execution_count": 5,
   "metadata": {},
   "outputs": [],
   "source": [
    "def format_query(term):\n",
    "    query_b = {\n",
    "        \"_source\": {\n",
    "            \"exclude\": [\"content\", \"syscalls\", \"raw\", \"registry\"]\n",
    "        },\n",
    "        \"query\":{\n",
    "            \"multi_match\" : {\n",
    "                \"query\" : term,\n",
    "                \"fields\": [\"content\"],\n",
    "                \"fuzziness\": 0\n",
    "            }\n",
    "        }\n",
    "    }\n",
    "    return query_b"
   ]
  },
  {
   "cell_type": "markdown",
   "metadata": {},
   "source": [
    "Define helper function to search for term and return a Counter object"
   ]
  },
  {
   "cell_type": "code",
   "execution_count": 6,
   "metadata": {},
   "outputs": [],
   "source": [
    "def search_term(term):\n",
    "    term = term.strip().lower()\n",
    "    res_dict = Counter()\n",
    "    \n",
    "    # Execute query\n",
    "    res = es.search(index=\"malwords\", body=format_query(term))\n",
    "    n_hits = res['hits']['total']\n",
    "    print('Query: {:35} \\t Number of hits: {}'.format(term, n_hits))\n",
    "    \n",
    "    if n_hits == 0:\n",
    "        return res_dict\n",
    "    \n",
    "    res = helpers.scan(\n",
    "        es,\n",
    "        query=format_query(term),\n",
    "        index=\"malwords\",\n",
    "        doc_type=\"samples\"\n",
    "    )\n",
    "    \n",
    "    # Scan the result array\n",
    "    for elem in res:\n",
    "        res_dict[elem[\"_source\"][\"family\"]] += 1\n",
    "    \n",
    "    return res_dict"
   ]
  },
  {
   "cell_type": "markdown",
   "metadata": {},
   "source": [
    "Define hellper function to read relevant strings file"
   ]
  },
  {
   "cell_type": "code",
   "execution_count": 7,
   "metadata": {},
   "outputs": [],
   "source": [
    "string_file = 'relevant_strings.txt'"
   ]
  },
  {
   "cell_type": "code",
   "execution_count": 8,
   "metadata": {},
   "outputs": [],
   "source": [
    "def prepare_strings(file_path):\n",
    "    to_search_dict = {}\n",
    "    \n",
    "    with open(file_path, 'r', encoding='utf-8') as in_file:\n",
    "        for line in in_file:\n",
    "            \n",
    "            # Relevant strings are space-separated and divided from the family name by a '-'\n",
    "            family = line.split('-')[0].strip()\n",
    "            strings = [i.strip() for i in line.split('-')[1].split()]\n",
    "            to_search_dict[family] = strings\n",
    "    \n",
    "    return to_search_dict             "
   ]
  },
  {
   "cell_type": "code",
   "execution_count": 9,
   "metadata": {},
   "outputs": [],
   "source": [
    "to_search = prepare_strings(string_file)"
   ]
  },
  {
   "cell_type": "markdown",
   "metadata": {},
   "source": [
    "Look for the strings and report the results"
   ]
  },
  {
   "cell_type": "code",
   "execution_count": 10,
   "metadata": {},
   "outputs": [],
   "source": [
    "def search_all(to_search):\n",
    "    results = {}\n",
    "    \n",
    "    # Scan through the strings dictionary\n",
    "    for family, strings in to_search.items():\n",
    "        results[family] = {}\n",
    "        \n",
    "        print('\\nAnalyzing family: {}'.format(family))\n",
    "        \n",
    "        # Scan through the list of strings\n",
    "        for rel_string in strings:\n",
    "            results[family][rel_string] = search_term(rel_string)\n",
    "    \n",
    "    return results"
   ]
  },
  {
   "cell_type": "markdown",
   "metadata": {},
   "source": [
    "Perform the search"
   ]
  },
  {
   "cell_type": "code",
   "execution_count": 11,
   "metadata": {
    "scrolled": false
   },
   "outputs": [
    {
     "name": "stdout",
     "output_type": "stream",
     "text": [
      "\n",
      "Analyzing family: allaple\n",
      "Query: a15xv9x7s                           \t Number of hits: 0\n",
      "Query: twofortheworms                      \t Number of hits: 0\n",
      "Query: net46                               \t Number of hits: 0\n",
      "Query: amf45dfv                            \t Number of hits: 0\n",
      "Query: rpcstringbindingcompose             \t Number of hits: 0\n",
      "Query: rpcbindingfromstringbinding         \t Number of hits: 0\n",
      "Query: rundll32                            \t Number of hits: 0\n",
      "Query: smbnetwork.dll                      \t Number of hits: 0\n",
      "Query: executeservice                      \t Number of hits: 0\n",
      "Query: zorn                                \t Number of hits: 0\n",
      "Query: babcdefghijklmnopqrstuvwabcdefghi   \t Number of hits: 0\n",
      "\n",
      "Analyzing family: virut\n",
      "Query: zief                                \t Number of hits: 19805\n",
      "Query: ircgalaxy                           \t Number of hits: 0\n",
      "Query: updatehost                          \t Number of hits: 0\n",
      "Query: celebrate                           \t Number of hits: 0\n",
      "Query: summer                              \t Number of hits: 1350\n",
      "Query: garden                              \t Number of hits: 5860\n",
      "Query: relentlessly                        \t Number of hits: 0\n",
      "Query: happy                               \t Number of hits: 5752\n",
      "Query: and                                 \t Number of hits: 0\n",
      "Query: expectant                           \t Number of hits: 214\n",
      "Query: standing                            \t Number of hits: 0\n",
      "Query: watching                            \t Number of hits: 0\n",
      "\n",
      "Analyzing family: virlock\n",
      "Query: federal                             \t Number of hits: 3252\n",
      "Query: crime                               \t Number of hits: 0\n",
      "Query: bitcoin                             \t Number of hits: 1420\n",
      "Query: ooqywkqi                            \t Number of hits: 0\n",
      "Query: pwgoomeg                            \t Number of hits: 0\n",
      "Query: uqmsiwoy                            \t Number of hits: 0\n",
      "Query: infringement                        \t Number of hits: 4607\n",
      "\n",
      "Analyzing family: multiplug\n",
      "Query: n6fksrk6t                           \t Number of hits: 0\n",
      "Query: bbgnekycaa                          \t Number of hits: 0\n",
      "Query: registeredapplicationsex            \t Number of hits: 0\n",
      "\n",
      "Analyzing family: sality\n",
      "Query: balsfhkewo7i487fksd                 \t Number of hits: 0\n",
      "Query: bcash                               \t Number of hits: 0\n",
      "Query: bmakemegood24                       \t Number of hits: 0\n",
      "Query: bmoney                              \t Number of hits: 300\n",
      "Query: buynvf96                            \t Number of hits: 0\n",
      "Query: technican                           \t Number of hits: 0\n",
      "Query: oceaninfo                           \t Number of hits: 0\n",
      "Query: bxxxl                               \t Number of hits: 0\n",
      "Query: cash                                \t Number of hits: 21703\n",
      "\n",
      "Analyzing family: parite\n",
      "Query: newarean                            \t Number of hits: 0\n",
      "\n",
      "Analyzing family: outbrowse\n",
      "Query: nsisdl                              \t Number of hits: 0\n",
      "Query: instructions                        \t Number of hits: 0\n",
      "Query: nsm11                               \t Number of hits: 0\n",
      "Query: nsm10                               \t Number of hits: 0\n",
      "Query: getfilesresources                   \t Number of hits: 0\n",
      "Query: dmresources                         \t Number of hits: 0\n",
      "\n",
      "Analyzing family: mira\n",
      "Query: kprlky                              \t Number of hits: 0\n",
      "Query: autoexec                            \t Number of hits: 0\n",
      "Query: certs                               \t Number of hits: 0\n",
      "\n",
      "Analyzing family: upatre\n",
      "Query: pdfviewer                           \t Number of hits: 453\n",
      "Query: informix                            \t Number of hits: 0\n",
      "Query: eluxj36                             \t Number of hits: 0\n",
      "Query: goofit5                             \t Number of hits: 0\n",
      "Query: vybzl                               \t Number of hits: 0\n",
      "Query: onidarte                            \t Number of hits: 0\n",
      "Query: dragovic                            \t Number of hits: 0\n",
      "Query: rivinglessons                       \t Number of hits: 0\n",
      "Query: drifting                            \t Number of hits: 1066\n",
      "Query: account                             \t Number of hits: 0\n",
      "Query: usps                                \t Number of hits: 0\n",
      "Query: statement                           \t Number of hits: 0\n",
      "Query: huyontop                            \t Number of hits: 0\n",
      "Query: cyclivate                           \t Number of hits: 0\n",
      "Query: pentruder                           \t Number of hits: 0\n",
      "\n",
      "Analyzing family: installcore\n",
      "Query: flashplayerpro                      \t Number of hits: 0\n",
      "Query: flvplayersetup                      \t Number of hits: 0\n",
      "Query: hdsetup                             \t Number of hits: 0\n",
      "Query: mediadownloadersetup                \t Number of hits: 0\n",
      "Query: javaplugin                          \t Number of hits: 0\n",
      "Query: bororeb                             \t Number of hits: 0\n",
      "Query: generator                           \t Number of hits: 0\n",
      "\n",
      "Analyzing family: loadmoney\n",
      "Query: binupdate                           \t Number of hits: 0\n",
      "Query: mailruupdater                       \t Number of hits: 0\n",
      "Query: isermen                             \t Number of hits: 0\n",
      "Query: umnobe                              \t Number of hits: 0\n",
      "Query: xtnmailru                           \t Number of hits: 0\n",
      "Query: cdnmail                             \t Number of hits: 0\n",
      "Query: служба                              \t Number of hits: 0\n",
      "Query: автоматического                     \t Number of hits: 0\n",
      "Query: обновления                          \t Number of hits: 0\n",
      "Query: программ                            \t Number of hits: 0\n",
      "Query: zetagames                           \t Number of hits: 0\n",
      "Query: ipro2                               \t Number of hits: 0\n",
      "Query: интернет                            \t Number of hits: 0\n",
      "Query: fifa                                \t Number of hits: 0\n",
      "Query: need                                \t Number of hits: 0\n",
      "Query: speed                               \t Number of hits: 0\n",
      "Query: underground                         \t Number of hits: 0\n",
      "Query: sound                               \t Number of hits: 0\n",
      "Query: игровой                             \t Number of hits: 0\n",
      "Query: центр                               \t Number of hits: 0\n",
      "\n",
      "Analyzing family: vobfus\n",
      "Query: passwords                           \t Number of hits: 0\n",
      "Query: porn                                \t Number of hits: 0\n",
      "Query: secret                              \t Number of hits: 0\n",
      "Query: sexy                                \t Number of hits: 0\n",
      "Query: subst                               \t Number of hits: 0\n",
      "Query: helpupdated                         \t Number of hits: 0\n",
      "Query: helpupdater                         \t Number of hits: 0\n",
      "Query: codeconline                         \t Number of hits: 0\n",
      "Query: thepicturehut                       \t Number of hits: 0\n",
      "Query: theimageparlour                     \t Number of hits: 0\n",
      "Query: usezoom                             \t Number of hits: 0\n",
      "Query: zoomslovenia                        \t Number of hits: 0\n"
     ]
    }
   ],
   "source": [
    "results = search_all(to_search)"
   ]
  },
  {
   "cell_type": "markdown",
   "metadata": {},
   "source": [
    "Explore the results"
   ]
  },
  {
   "cell_type": "code",
   "execution_count": 12,
   "metadata": {},
   "outputs": [],
   "source": [
    "def explore_results(results):\n",
    "\n",
    "    # Scan the results dictionary\n",
    "    for family, queries in results.items():\n",
    "        print('\\nAnalyzing family: {}'.format(family))\n",
    "        \n",
    "        #Scan through the queries per family\n",
    "        for query, count in queries.items():\n",
    "            \n",
    "            # If Counter is empty skip it\n",
    "            if len(count) == 0:\n",
    "                continue\n",
    "            \n",
    "            # If Counter is not empty report the percentage\n",
    "            # of elements with the same class as current family\n",
    "            tot = sum(count.values())\n",
    "            tot_fam = count[family]\n",
    "            percent = tot_fam * 100 / tot\n",
    "            others = tot - tot_fam\n",
    "            print('Found {} results for {}'.format(tot, query))\n",
    "            print('Of those, {} belong to {}, {}\\%, and {} to other families'.format(tot_fam, family, percent, others))\n",
    "            \n",
    "    "
   ]
  },
  {
   "cell_type": "code",
   "execution_count": 13,
   "metadata": {},
   "outputs": [
    {
     "name": "stdout",
     "output_type": "stream",
     "text": [
      "\n",
      "Analyzing family: allaple\n",
      "\n",
      "Analyzing family: virut\n",
      "Found 19805 results for zief\n",
      "Of those, 2774 belong to virut, 14.006563998990154\\%, and 17031 to other families\n",
      "Found 1350 results for summer\n",
      "Of those, 91 belong to virut, 6.7407407407407405\\%, and 1259 to other families\n",
      "Found 5860 results for garden\n",
      "Of those, 734 belong to virut, 12.525597269624573\\%, and 5126 to other families\n",
      "Found 5752 results for happy\n",
      "Of those, 308 belong to virut, 5.354659248956884\\%, and 5444 to other families\n",
      "Found 214 results for expectant\n",
      "Of those, 7 belong to virut, 3.2710280373831777\\%, and 207 to other families\n",
      "\n",
      "Analyzing family: virlock\n",
      "Found 3252 results for federal\n",
      "Of those, 993 belong to virlock, 30.535055350553506\\%, and 2259 to other families\n",
      "Found 1420 results for bitcoin\n",
      "Of those, 1062 belong to virlock, 74.78873239436619\\%, and 358 to other families\n",
      "Found 4607 results for infringement\n",
      "Of those, 990 belong to virlock, 21.489038419795964\\%, and 3617 to other families\n",
      "\n",
      "Analyzing family: multiplug\n",
      "\n",
      "Analyzing family: sality\n",
      "Found 300 results for bmoney\n",
      "Of those, 10 belong to sality, 3.3333333333333335\\%, and 290 to other families\n",
      "Found 21703 results for cash\n",
      "Of those, 864 belong to sality, 3.981016449338801\\%, and 20839 to other families\n",
      "\n",
      "Analyzing family: parite\n",
      "\n",
      "Analyzing family: outbrowse\n",
      "\n",
      "Analyzing family: mira\n",
      "\n",
      "Analyzing family: upatre\n",
      "Found 453 results for pdfviewer\n",
      "Of those, 0 belong to upatre, 0.0\\%, and 453 to other families\n",
      "Found 1066 results for drifting\n",
      "Of those, 0 belong to upatre, 0.0\\%, and 1066 to other families\n",
      "\n",
      "Analyzing family: installcore\n",
      "\n",
      "Analyzing family: loadmoney\n",
      "\n",
      "Analyzing family: vobfus\n"
     ]
    }
   ],
   "source": [
    "explore_results(results)"
   ]
  },
  {
   "cell_type": "code",
   "execution_count": null,
   "metadata": {},
   "outputs": [],
   "source": []
  }
 ],
 "metadata": {
  "kernelspec": {
   "display_name": "Python 3",
   "language": "python",
   "name": "python3"
  },
  "language_info": {
   "codemirror_mode": {
    "name": "ipython",
    "version": 3
   },
   "file_extension": ".py",
   "mimetype": "text/x-python",
   "name": "python",
   "nbconvert_exporter": "python",
   "pygments_lexer": "ipython3",
   "version": "3.6.3"
  }
 },
 "nbformat": 4,
 "nbformat_minor": 2
}
